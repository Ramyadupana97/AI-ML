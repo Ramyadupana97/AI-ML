{
  "nbformat": 4,
  "nbformat_minor": 0,
  "metadata": {
    "colab": {
      "provenance": [],
      "authorship_tag": "ABX9TyOR8+f+/jix0nC1Pc3cGDnO",
      "include_colab_link": true
    },
    "kernelspec": {
      "name": "python3",
      "display_name": "Python 3"
    },
    "language_info": {
      "name": "python"
    }
  },
  "cells": [
    {
      "cell_type": "markdown",
      "metadata": {
        "id": "view-in-github",
        "colab_type": "text"
      },
      "source": [
        "<a href=\"https://colab.research.google.com/github/Ramyadupana97/AI-ML/blob/main/ASSIGNMENT1_PYNB.ipynb\" target=\"_parent\"><img src=\"https://colab.research.google.com/assets/colab-badge.svg\" alt=\"Open In Colab\"/></a>"
      ]
    },
    {
      "cell_type": "code",
      "source": [
        "# Task1 -create two lists and join those two list"
      ],
      "metadata": {
        "id": "Hj_VZ5nJSGR4"
      },
      "execution_count": 7,
      "outputs": []
    },
    {
      "cell_type": "code",
      "source": [
        "from typing_extensions import Text\n",
        "test_list1 = [1, 2, 3, 4]\n",
        "test_list2 = [3,4, 5, 6]\n",
        "test_list3 = test_list1 + test_list2\n",
        "print(str(test_list3))"
      ],
      "metadata": {
        "colab": {
          "base_uri": "https://localhost:8080/"
        },
        "id": "JG5wy3xUSc5j",
        "outputId": "53d5ec11-2424-4509-cc59-f291235d6dd3"
      },
      "execution_count": 21,
      "outputs": [
        {
          "output_type": "stream",
          "name": "stdout",
          "text": [
            "[1, 2, 3, 4, 3, 4, 5, 6]\n"
          ]
        }
      ]
    },
    {
      "cell_type": "code",
      "source": [],
      "metadata": {
        "id": "qVYZu2MVSox1"
      },
      "execution_count": null,
      "outputs": []
    },
    {
      "cell_type": "markdown",
      "source": [],
      "metadata": {
        "id": "MjYGCqJk8d6H"
      }
    },
    {
      "cell_type": "code",
      "source": [
        "# Task2-with 'if' statememt find the even numbers"
      ],
      "metadata": {
        "id": "8Y7cDXf-TiCG"
      },
      "execution_count": null,
      "outputs": []
    },
    {
      "cell_type": "code",
      "source": [
        "a = int(input(\"Enter a :\"))\n",
        "if((a%2)==0):\n",
        "  print(\"even\")\n",
        "else:\n",
        "   print(\"Odd\")"
      ],
      "metadata": {
        "colab": {
          "base_uri": "https://localhost:8080/"
        },
        "id": "OsNSNGXuUJ5J",
        "outputId": "51f6f6f3-2b07-4889-fc3d-cc1802a21e42"
      },
      "execution_count": 2,
      "outputs": [
        {
          "output_type": "stream",
          "name": "stdout",
          "text": [
            "Enter a :2\n",
            "even\n"
          ]
        }
      ]
    },
    {
      "cell_type": "code",
      "source": [
        "# Task3-Create a dictionary with 3 keys and 2 values for each key"
      ],
      "metadata": {
        "id": "zMudBgBDZJlM"
      },
      "execution_count": null,
      "outputs": []
    },
    {
      "cell_type": "code",
      "source": [
        "demo = {'first':[1,2],\n",
        "        'second':[3,4],\n",
        "        'third':[5,6]}"
      ],
      "metadata": {
        "id": "0OfpdyuWZawW"
      },
      "execution_count": 3,
      "outputs": []
    },
    {
      "cell_type": "code",
      "source": [
        "example=demo['first']"
      ],
      "metadata": {
        "id": "PKNP7_zvZtu2"
      },
      "execution_count": 4,
      "outputs": []
    },
    {
      "cell_type": "code",
      "source": [
        "print(example)"
      ],
      "metadata": {
        "colab": {
          "base_uri": "https://localhost:8080/"
        },
        "id": "1qUHGqmXZzVT",
        "outputId": "61328b29-2594-46db-a8dc-95377c3f0856"
      },
      "execution_count": 5,
      "outputs": [
        {
          "output_type": "stream",
          "name": "stdout",
          "text": [
            "[1, 2]\n"
          ]
        }
      ]
    },
    {
      "cell_type": "code",
      "source": [
        "# Task4-Create a function with 'if' statement to find odd numbers"
      ],
      "metadata": {
        "id": "Tx50GsYPZ4Zr"
      },
      "execution_count": null,
      "outputs": []
    },
    {
      "cell_type": "code",
      "source": [
        "b=int(input(\"Enter b :\"))\n",
        "if((b%2)==0):\n",
        "  print(\"Not Odd\")\n",
        "else:\n",
        "    print(\"It is Odd\")"
      ],
      "metadata": {
        "colab": {
          "base_uri": "https://localhost:8080/"
        },
        "id": "uTWPN6uBaEJL",
        "outputId": "2fae9919-3321-41ce-a4e8-ff6acbe3137f"
      },
      "execution_count": 6,
      "outputs": [
        {
          "output_type": "stream",
          "name": "stdout",
          "text": [
            "Enter b :8\n",
            "Not Odd\n"
          ]
        }
      ]
    },
    {
      "cell_type": "code",
      "source": [
        "# Task5-Write a python function  to sum all the numbers in the list"
      ],
      "metadata": {
        "id": "dLN7NK0iae8Z"
      },
      "execution_count": null,
      "outputs": []
    },
    {
      "cell_type": "code",
      "source": [
        "list_1 = [8, 2, 3, 0, 7]\n",
        "total = sum(list_1)\n",
        "print(total)"
      ],
      "metadata": {
        "colab": {
          "base_uri": "https://localhost:8080/"
        },
        "id": "BcNqxza3atRX",
        "outputId": "5a2ccec0-fc96-4866-f47f-21f93c88f2bc"
      },
      "execution_count": 23,
      "outputs": [
        {
          "output_type": "stream",
          "name": "stdout",
          "text": [
            "20\n"
          ]
        }
      ]
    }
  ]
}